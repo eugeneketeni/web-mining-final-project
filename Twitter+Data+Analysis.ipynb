{
 "cells": [
  {
   "cell_type": "code",
   "execution_count": 1,
   "metadata": {
    "collapsed": true
   },
   "outputs": [],
   "source": [
    "#Importing libraries\n",
    "import pandas as pd"
   ]
  },
  {
   "cell_type": "markdown",
   "metadata": {},
   "source": [
    "# Loading the dataset"
   ]
  },
  {
   "cell_type": "code",
   "execution_count": 2,
   "metadata": {
    "collapsed": true
   },
   "outputs": [],
   "source": [
    "data = pd.read_csv(\"C:\\\\Users\\\\Eugene\\\\Downloads\\\\Final_Project\\\\web-mining-final-project\\\\Test_file.csv\")"
   ]
  },
  {
   "cell_type": "markdown",
   "metadata": {},
   "source": [
    "# Pre-processing the tweets"
   ]
  },
  {
   "cell_type": "markdown",
   "metadata": {},
   "source": [
    "### Tokenization and removing Stopwords"
   ]
  },
  {
   "cell_type": "code",
   "execution_count": 3,
   "metadata": {
    "collapsed": true
   },
   "outputs": [],
   "source": [
    "import nltk\n",
    "from nltk import word_tokenize, sent_tokenize\n",
    "from nltk.corpus import stopwords \n",
    "from nltk.tokenize import word_tokenize \n",
    "import nltk, string"
   ]
  },
  {
   "cell_type": "code",
   "execution_count": 4,
   "metadata": {
    "collapsed": true
   },
   "outputs": [],
   "source": [
    "#full print display\n",
    "pd.set_option('display.max_colwidth', -1)\n",
    "\n",
    "data['text'] = data['text'].astype(str).str.lower()\n",
    "text = data.loc[:, \"text\"]\n",
    "# filter out punctuation \n",
    "table = str.maketrans({key: None for key in string.punctuation})\n",
    "data['text'] = data['text'].apply(lambda x: x.translate(table))\n",
    "#tokenize\n",
    "data['text'] = [word_tokenize(text[i]) for i in range(len(text))]\n",
    "\n",
    "#filter out stop words and custom words\n",
    "stopwords = set(stopwords.words('english'))\n",
    "customStopWords = set([\"rt\"])\n",
    "data['text'] = data['text'].apply(lambda x: [item for item in x if item not in stopwords])\n",
    "data['text'] = data['text'].apply(lambda x: [item for item in x if item not in customStopWords])\n",
    "#filter out links\n",
    "data['text'] = data['text'].apply(lambda x: [item for item in x if not \"http\" in item])"
   ]
  },
  {
   "cell_type": "code",
   "execution_count": 5,
   "metadata": {},
   "outputs": [
    {
     "name": "stdout",
     "output_type": "stream",
     "text": [
      "0    [thingsdonebymistake, kissing, auntie, lips]                                                           \n",
      "1    [mcderpin, theolderweget, pessimistic]                                                                 \n",
      "2    [dmataconis, ready, feel, like, failure, joan, arc, 19, burned, stake]                                 \n",
      "3    [amen, blacklivesmatter]                                                                               \n",
      "4    [nahbabynah, twitchy, chuck, todd, caught, shilling, hillary, clinton, post, busted, adam, baldwi, â€¦]\n",
      "Name: text, dtype: object\n"
     ]
    }
   ],
   "source": [
    "print(data['text'].head())"
   ]
  },
  {
   "cell_type": "code",
   "execution_count": 6,
   "metadata": {},
   "outputs": [
    {
     "name": "stdout",
     "output_type": "stream",
     "text": [
      "['0', '[', 'thingsdonebymistake', ',', 'kiss', ',', 'auntie', ',', 'lip', ']', '1', '[', 'mcderpin', ',', 'theolderweget', ',', 'pessimistic', ']', '2', '[', 'dmataconis', ',', 'ready', ',', 'feel', ',', 'like', ',', 'failure', ',', 'joan', ',', 'arc', ',', '19', ',', 'burn', ',', 'stake', ']', '3', '[', 'amen', ',', 'blacklivesmatter', ']', '4', '[', 'nahbabynah', ',', 'twitchy', ',', 'chuck', ',', 'todd', ',', 'caught', ',', 'shill', ',', 'hillary', ',', 'clinton', ',', 'post', ',', 'bust', ',', 'adam', ',', 'baldwi', ',', 'â€¦', ']', '5', '[', 'mcicero10', ',', 'berniesanders', ',', 'trump', ',', 'people', ',', 'rally', ',', 'together', ',', 'establishment', ',', 'ðÿ', ',', '’', ',', '©ing', ',', 'choice', ',', 'thefix', ']', '6', '[', 'itsjustjaynie', ',', 'hillaryclinton', ',', 'undecided', ',', 'voter', ',', 'stage', ',', 'poll', ',', 'say', ',', 'trump', ',', 'cnn', ',', 'bias', ']', '7', '[', 'todaycleveland', ',', 'way', ']', '8', '[', 'nicktomawbre', ',', 'hi', ',', 'nick', ',', 'hold', ',', 'miner', ',', 'trump', ',', 'rally', ',', 'tomorrow', ',', 'youre', ',', 'interested', ',', 'cover', ',', 'pleâ€¦', ']', '9', '[', 'resolution', ',', 'my4wordnewyearsresolution', ']', '10', '[', 'lifetime', ',', 'movie', ',', 'pet', ',', 'psycho', ',', 'neighbor', ',', 'dig', ',', 'grave', ',', 'rover', ',', 'tvlifelessonsilearned', ']', '11', '[', 'conservatexian', ',', 'new', ',', 'post', ',', 'un', ',', 'alarm', ',', 'alshababs', ',', 'force', ',', 'somalia', ',', 'kid', ']', '12', '[', 'hillaryclinton', ',', 'one', ',', 'hillary', ']', '13', '[', 'leonpui', ',', 'hillary', ',', 'clinton', ',', 'obama', ',', 'democrat', ',', 'use', ',', 'communist', ',', 'born', ',', 'word', ',', 'racist', ',', 'divert', ',', 'real', ',', 'problem', ']', '14', '[', '5th', ',', 'grade', ',', 'second', ',', 'plane', ',', 'hit', ',', 'thought', ',', 'school', ',', 'next', ',', 'my911story', ']', '15', '[', 'teapartynews', ',', 'teaparty', ',', 'theteaparty', ',', 'politics', ',', 'conservative', ']', '16', '[', 'trumpbecause', ',', 'donaldtrump', ',', 'bought', ',', 'know', ',', 'spot', ',', 'political', ',', 'game', ',', 'ðÿ˜œðÿ˜\\x9d', ']', '17', '[', 'dmashak', ',', 'debate', ',', 'chris', ',', 'wallace', ',', 'foxnewssunday', ',', 'pls', ',', 'ask', ',', 'candidate', ',', 'subscribe', ',', 'agenda', ',', 'amp', ',', 'tactic', ',', 'alinskys', ',', 'rulesforradicâ€¦', ']', '18', '[', 'mikefdupjourney', ',', 'shenutt', ',', 'youre', ',', 'welcome', ']', '19', '[', 'prisonplanet', ',', 'hillary', ',', 'antitrump', ',', 'poster', ',', 'child', ',', 'alicia', ',', 'machado', ',', 'lie', ',', 'trump', ',', 'cause', ',', 'eat', ',', 'disorder', ']', '20', '[', 'sheriff', ',', 'joe', ',', 'arpaio', ',', 'speak', ',', 'rnc', ',', 'politics', ']', '21', '[', 'truthbfree', ',', 'brewcitriot', ',', 'jjauthor', ',', 'humble', ',', 'abode', ',', 'marxist', ',', 'poor', ',', 'thing', ']', '22', '[', 'trumpsuperpac', ',', 'africanamericans', ',', 'like', ',', 'jermonmaxey', ',', 'realize', ',', 'thing', ',', 'didnt', ',', 'improve', ',', 'obama', ',', 'definitely', ',', 'wont', ',', 'hillary', ',', 'httâ€¦', ']', '23', '[', 'americanwoman4', ',', 'magafeminineamerica4trumplgbt4trumpfl4trump', ',', 'vote', ',', 'amp', ',', 'spread', ',', 'true', ',', 'policy', ',', 'trump', ',', 'happy', ',', 'saturdayðÿ‡ºðÿ‡¸', ']', '24', '[', 'conservatexian', ',', 'news', ',', 'post', ',', 'twitter', ',', 'buries', ',', '32', ',', 'donald', ',', 'trumpâ', ',', '’', ',', 'goto', ',', 'battleground', ',', 'tweet', ',', 'â…deletes', ',', 'another', ']', '25', '[', '1hoofhearted', ',', 'tuckercarlson', ',', 'jrubinblogger', ',', 'bigot', ',', 'im', ',', 'white', ',', 'trump', ',', 'supporter', ',', 'daughter', ',', 'half', ',', 'hispanic', ',', 'africanamericâ€¦', ']', '26', '[', 'cloud', ',', 'seed', ',', 'conspiracysongs', ',', 'midnight', ']', '27', '[', 'saramurray', ',', 'yet', ',', 'read', ',', 'new', ',', 'yorker', ',', 'cover', ',', 'story', ',', '5', ',', 'american', ',', 'hostage', ',', 'make', ',', 'long', ',', 'read', ',', 'even', ']', '28', '[', 'ladyofcanoe', ',', 'reallifemagicspells', ',', 'bank', ',', 'accountus', ',', 'enlargus', ']', '29', '[', 'kyleneven1', ',', 'omg', ',', 'remember', ',', 'everyone', ',', 'really', ',', 'worried', ',', 'gluten', ']', '...', '2125', '[', 'theamishdude', ']', '2126', '[', 'everyword', ']', '2127', '[', 'blicqer', ',', 'â–¶brotherbenx', ',', 'brother', ',', 'ben', ',', 'x', ',', 'live', ',', 'say', ',', 'get', ',', 'married', ',', 'bro', ',', 'nuri', ',', 'muhammad', ']', '2128', '[', 'realfnnato', ',', 'dear', ',', 'antifa', ',', 'stop', ',', 'fuck', ',', 'retard', ']', '2129', '[', 'trump', ',', 'defense', ',', 'blame', ',', 'medium', ',', 'second', ',', 'amendment', ',', 'flap', ']', '2130', '[', 'trump', ',', 'meet', ',', 'obama', ',', 'white', ',', 'house', ',', 'symbolic', ',', 'start', ',', 'transition', ',', 'power', ']', '2131', '[', 'veteranstoday', ',', 'famous', ',', 'literary', ',', 'prize', ',', 'paris', ',', 'prix', ',', 'wepler', ',', 'fondation', ',', 'de', ',', 'la', ',', 'poste', ']', '2132', '[', 'onemoodyhuman', ',', 'todolistbeforechristmas', ',', '1', ',', 'write', ',', 'well', ',', 'joke', ',', '2', ',', 'overconfident', ',', 'assume', ',', '2', ',', '3', ',', 'retweets', ',', 'aâ€¦', ']', '2133', '[', 'baron1987', ',', 'preciateitpimp', ',', 'funniest', ',', 'trend', ',', '2016', ',', 'happen', ',', 'right', ',', 'christmas', ',', 'amp', ',', 'new', ',', 'year', ',', 'ðÿ˜‚ðÿ¤£', ']', '2134', '[', 'surrealistic', ',', 'fun', ']', '2135', '[', 'knkcattle', ',', 'catalishus', ',', 'pigeontoday', ',', 'ccot', ',', 'eu', ',', 'western', ',', 'nato', ',', 'state', ',', 'join', ',', 'muslim', ',', 'antichrist', ',', 'alliance', ']', '2136', '[', 'edgeofsports', ',', 'remember', ',', 'superman', ',', 'comic', ',', 'stake', ',', 'courthouse', ',', 'deport', ',', 'woman', ',', 'make', ',', 'domestic', ',', 'violence', ',', 'complaint', ',', 'hâ€¦', ']', '2137', '[', 'âš¡ï¸\\x8f', ',', 'â€œthe', ',', 'last', ',', 'debateâ€\\x9d', ']', '2138', '[', 'ringgoldsandra', ',', 'thefirst100daystodolist', ',', 'change', ',', 'white', ',', 'house', ',', 'trump', ',', 'house', ']', '2139', '[', 'fox59', ',', 'indianapolis', ',', 'couple', ',', 'find', ',', 'world', ',', 'war', ',', 'ii', ',', 'medal', ',', 'inside', ',', 'dresser', ',', 'goodwill', ']', '2140', '[', 'blackamerican33', ',', 'delkismblack', ',', 'american', ',', 'regionalism', ',', '46', ',', 'aa', ',', 'minority', ',', 'national', ',', 'level', ',', 'super', ',', 'majority', ',', 'stâ€¦', ']', '2141', '[', 'cant', ',', 'fix', ',', 'rig', ',', 'system', ',', 'elect', ',', 'people', ',', 'rig', ',', 'first', ',', 'place', ',', 'donald', ',', 'trump', ']', '2142', '[', 'dmashak', ',', 'assess', ',', 'election', ',', '2016', ',', 'psa', ',', '4', ',', 'wikileaks', ',', 'snowden', ',', 'realdonaldtrump', ',', 'realjameswoods', ',', 'thepolitichicks', ',', 'tppatriots', ',', 'military', ',', 'milâ€¦', ']', '2143', '[', 'female', ',', 'political', ',', 'candidate', ',', 'treat', ',', 'circus', ',', 'freak', ',', '2016election', ']', '2144', '[', 'clinton', ',', 'overheat', ',', 'coolest', ',', 'day', ',', '75', ',', 'degree', ',', 'breezy', ',', 'clintoncollapse', ']', '2145', '[', 'rolandsmartin', ',', 'dylann', ',', 'roof', ',', 'found', ',', 'guilty', ',', 'count', ',', 'focus', ',', 'shift', ',', 'sentence', ',', 'receive', ',', 'death', ',', 'penalty', ']', '2146', '[', 'radiofreetom', ',', 'he', ',', 'wrong', ']', '2147', '[', 'thewatchfulmom', ',', 'stevenwhirsch99', ',', 'burial', ',', 'flag', ',', 'give', ',', '2', ',', 'us', ',', 'touch', ',', 'heartsampsouls', ',', 'sad', ',', 'ppl', ',', 'dont', ',', 'understand', ',', 'flag', ',', 'sentimeâ€¦', ']', '2148', '[', 'bmoredon', ',', 'sense', ',', 'bullshit', ',', 'liar', ',', 'con', ',', 'thingsnottaughtatschool', ']', '2149', '[', 'blicqer', ',', 'â–¶', ',', 'watch', ',', 'live', ',', 'hillary', ',', 'clinton', ',', 'hold', ',', 'midnight', ',', 'rally', ',', 'north', ',', 'carolina', ',', 'lady', ',', 'gaga', ',', 'jon', ',', 'bon', ',', 'jovi', ',', 'â€¦', ']', '2150', '[', 'jimlibertarian', ',', 'thanks', ',', 'team', ',', 'trumpand', ',', 'im', ',', 'proud', ',', 'randyyou', ',', 'reject', ',', 'left', ',', 'wing', ',', 'hollyweird', ',', 'agendaðÿ', ',', '‘', ',', 'š', ']', '2151', '[', 'blackplanet', ',', 'â€˜i', ',', 'canâ€™t', ',', 'breatheâ€\\x9d', ',', 'another', ',', 'black', ',', 'man', ',', 'dy', ',', 'beg', ',', 'air', ',', 'police', ',', 'custody', ']', '2152', '[', 'realeaglebites', ',', '91', ',', 'network', ',', 'tv', ',', 'news', ',', 'bias', ',', 'unfairly', ',', 'portray', ',', 'trump', ',', 'negatively', ',', 'academic', ',', 'study', ',', 'mediabias', ',', 'maga', ',', 'draintheswamp', ',', 'htâ€¦', ']', '2153', '[', 'thesalteater', ',', 'there', ',', 'gay', ',', 'porn', ',', 'genre', ',', 'white', ',', 'cop', ',', 'capture', ',', 'black', ',', 'thug', ',', 'fuck', ']', '2154', '[', 'zivame', ',', 'previous', ',', 'contest', ',', 'could', ',', 'win', ',', 'one', ',', 'hop', ',', 'play', ',', 'whatwomenlove', ']', 'Name', ':', 'text', ',', 'Length', ':', '2155', ',', 'dtype', ':', 'object']\n"
     ]
    }
   ],
   "source": [
    "from nltk.stem import WordNetLemmatizer\n",
    "from nltk.corpus import wordnet\n",
    "\n",
    "def get_wordnet_pos(word):\n",
    "    \"\"\"Map POS tag to first character lemmatize() accepts\"\"\"\n",
    "    tag = nltk.pos_tag([word])[0][1][0].upper()\n",
    "    tag_dict = {\"J\": wordnet.ADJ,\n",
    "                \"N\": wordnet.NOUN,\n",
    "                \"V\": wordnet.VERB,\n",
    "                \"R\": wordnet.ADV}\n",
    "\n",
    "    return tag_dict.get(tag, wordnet.ADJ)\n",
    "\n",
    "lemmatizer = WordNetLemmatizer()\n",
    "sentence = str(text)\n",
    "#print(data['text'])\n",
    "print([lemmatizer.lemmatize(w, get_wordnet_pos(w)) for w in nltk.word_tokenize(sentence)])"
   ]
  },
  {
   "cell_type": "code",
   "execution_count": null,
   "metadata": {
    "collapsed": true
   },
   "outputs": [],
   "source": []
  }
 ],
 "metadata": {
  "kernelspec": {
   "display_name": "Python 3",
   "language": "python",
   "name": "python3"
  },
  "language_info": {
   "codemirror_mode": {
    "name": "ipython",
    "version": 3
   },
   "file_extension": ".py",
   "mimetype": "text/x-python",
   "name": "python",
   "nbconvert_exporter": "python",
   "pygments_lexer": "ipython3",
   "version": "3.6.3"
  },
  "toc": {
   "nav_menu": {},
   "number_sections": true,
   "sideBar": true,
   "skip_h1_title": false,
   "title_cell": "Table of Contents",
   "title_sidebar": "Contents",
   "toc_cell": false,
   "toc_position": {},
   "toc_section_display": true,
   "toc_window_display": false
  }
 },
 "nbformat": 4,
 "nbformat_minor": 2
}
